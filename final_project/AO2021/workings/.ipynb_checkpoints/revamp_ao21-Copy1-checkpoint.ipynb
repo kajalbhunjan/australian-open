{
 "cells": [
  {
   "cell_type": "markdown",
   "metadata": {
    "slideshow": {
     "slide_type": "slide"
    }
   },
   "source": [
    "<img src=\"https://cdn.freelogovectors.net/wp-content/uploads/2020/06/australian_open_logo.png\" style=\"float: left; margin: 25px; height: 55px\">\n",
    "\n",
    "# Predicting the 2021 Australian Open"
   ]
  },
  {
   "cell_type": "code",
   "execution_count": 1,
   "metadata": {
    "slideshow": {
     "slide_type": "-"
    }
   },
   "outputs": [],
   "source": [
    "import pandas as pd\n",
    "from matplotlib import pyplot as plt\n",
    "from datetime import datetime\n",
    "import seaborn as sns\n",
    "\n",
    "%matplotlib inline"
   ]
  },
  {
   "cell_type": "markdown",
   "metadata": {},
   "source": [
    "source: http://www.tennis-data.co.uk/ausopen.phpv\n",
    "source: https://github.com/JeffSackmann/tennis_atp"
   ]
  },
  {
   "cell_type": "code",
   "execution_count": 2,
   "metadata": {},
   "outputs": [],
   "source": [
    "atp20 = pd.read_csv('./data/atp_matches_2020.csv')\n",
    "atp19 = pd.read_csv('./data/atp_matches_2019.csv')\n",
    "atp18 = pd.read_csv('./data/atp_matches_2018.csv')\n",
    "atp17 = pd.read_csv('./data/atp_matches_2017.csv')\n",
    "atp16 = pd.read_csv('./data/atp_matches_2016.csv')\n",
    "atp15 = pd.read_csv('./data/atp_matches_2015.csv')\n",
    "atp14 = pd.read_csv('./data/atp_matches_2014.csv')\n",
    "atp13 = pd.read_csv('./data/atp_matches_2013.csv')\n",
    "atp12 = pd.read_csv('./data/atp_matches_2012.csv')\n",
    "atp11 = pd.read_csv('./data/atp_matches_2011.csv')\n",
    "atp10 = pd.read_csv('./data/atp_matches_2010.csv')"
   ]
  },
  {
   "cell_type": "code",
   "execution_count": 3,
   "metadata": {},
   "outputs": [],
   "source": [
    "final_metrics = pd.read_csv('./data/final_metrics.csv')"
   ]
  },
  {
   "cell_type": "code",
   "execution_count": 4,
   "metadata": {},
   "outputs": [
    {
     "data": {
      "text/html": [
       "<div>\n",
       "<style scoped>\n",
       "    .dataframe tbody tr th:only-of-type {\n",
       "        vertical-align: middle;\n",
       "    }\n",
       "\n",
       "    .dataframe tbody tr th {\n",
       "        vertical-align: top;\n",
       "    }\n",
       "\n",
       "    .dataframe thead th {\n",
       "        text-align: right;\n",
       "    }\n",
       "</style>\n",
       "<table border=\"1\" class=\"dataframe\">\n",
       "  <thead>\n",
       "    <tr style=\"text-align: right;\">\n",
       "      <th></th>\n",
       "      <th>tourney_id</th>\n",
       "      <th>tourney_name</th>\n",
       "      <th>surface</th>\n",
       "      <th>draw_size</th>\n",
       "      <th>tourney_level</th>\n",
       "      <th>tourney_date</th>\n",
       "      <th>match_num</th>\n",
       "      <th>winner_id</th>\n",
       "      <th>winner_seed</th>\n",
       "      <th>winner_entry</th>\n",
       "      <th>...</th>\n",
       "      <th>l_1stIn</th>\n",
       "      <th>l_1stWon</th>\n",
       "      <th>l_2ndWon</th>\n",
       "      <th>l_SvGms</th>\n",
       "      <th>l_bpSaved</th>\n",
       "      <th>l_bpFaced</th>\n",
       "      <th>winner_rank</th>\n",
       "      <th>winner_rank_points</th>\n",
       "      <th>loser_rank</th>\n",
       "      <th>loser_rank_points</th>\n",
       "    </tr>\n",
       "  </thead>\n",
       "  <tbody>\n",
       "    <tr>\n",
       "      <th>0</th>\n",
       "      <td>2020-8888</td>\n",
       "      <td>Atp Cup</td>\n",
       "      <td>Hard</td>\n",
       "      <td>24</td>\n",
       "      <td>A</td>\n",
       "      <td>20200106</td>\n",
       "      <td>300</td>\n",
       "      <td>104925</td>\n",
       "      <td>NaN</td>\n",
       "      <td>NaN</td>\n",
       "      <td>...</td>\n",
       "      <td>51.0</td>\n",
       "      <td>39.0</td>\n",
       "      <td>6.0</td>\n",
       "      <td>10.0</td>\n",
       "      <td>6.0</td>\n",
       "      <td>8.0</td>\n",
       "      <td>2.0</td>\n",
       "      <td>9055.0</td>\n",
       "      <td>1.0</td>\n",
       "      <td>9985.0</td>\n",
       "    </tr>\n",
       "    <tr>\n",
       "      <th>1</th>\n",
       "      <td>2020-8888</td>\n",
       "      <td>Atp Cup</td>\n",
       "      <td>Hard</td>\n",
       "      <td>24</td>\n",
       "      <td>A</td>\n",
       "      <td>20200106</td>\n",
       "      <td>299</td>\n",
       "      <td>105138</td>\n",
       "      <td>NaN</td>\n",
       "      <td>NaN</td>\n",
       "      <td>...</td>\n",
       "      <td>35.0</td>\n",
       "      <td>21.0</td>\n",
       "      <td>6.0</td>\n",
       "      <td>9.0</td>\n",
       "      <td>5.0</td>\n",
       "      <td>10.0</td>\n",
       "      <td>10.0</td>\n",
       "      <td>2335.0</td>\n",
       "      <td>34.0</td>\n",
       "      <td>1251.0</td>\n",
       "    </tr>\n",
       "    <tr>\n",
       "      <th>2</th>\n",
       "      <td>2020-8888</td>\n",
       "      <td>Atp Cup</td>\n",
       "      <td>Hard</td>\n",
       "      <td>24</td>\n",
       "      <td>A</td>\n",
       "      <td>20200106</td>\n",
       "      <td>298</td>\n",
       "      <td>104925</td>\n",
       "      <td>NaN</td>\n",
       "      <td>NaN</td>\n",
       "      <td>...</td>\n",
       "      <td>57.0</td>\n",
       "      <td>35.0</td>\n",
       "      <td>25.0</td>\n",
       "      <td>14.0</td>\n",
       "      <td>6.0</td>\n",
       "      <td>11.0</td>\n",
       "      <td>2.0</td>\n",
       "      <td>9055.0</td>\n",
       "      <td>5.0</td>\n",
       "      <td>5705.0</td>\n",
       "    </tr>\n",
       "    <tr>\n",
       "      <th>3</th>\n",
       "      <td>2020-8888</td>\n",
       "      <td>Atp Cup</td>\n",
       "      <td>Hard</td>\n",
       "      <td>24</td>\n",
       "      <td>A</td>\n",
       "      <td>20200106</td>\n",
       "      <td>297</td>\n",
       "      <td>105583</td>\n",
       "      <td>NaN</td>\n",
       "      <td>NaN</td>\n",
       "      <td>...</td>\n",
       "      <td>54.0</td>\n",
       "      <td>39.0</td>\n",
       "      <td>14.0</td>\n",
       "      <td>12.0</td>\n",
       "      <td>0.0</td>\n",
       "      <td>1.0</td>\n",
       "      <td>34.0</td>\n",
       "      <td>1251.0</td>\n",
       "      <td>17.0</td>\n",
       "      <td>1840.0</td>\n",
       "    </tr>\n",
       "    <tr>\n",
       "      <th>4</th>\n",
       "      <td>2020-8888</td>\n",
       "      <td>Atp Cup</td>\n",
       "      <td>Hard</td>\n",
       "      <td>24</td>\n",
       "      <td>A</td>\n",
       "      <td>20200106</td>\n",
       "      <td>296</td>\n",
       "      <td>104745</td>\n",
       "      <td>NaN</td>\n",
       "      <td>NaN</td>\n",
       "      <td>...</td>\n",
       "      <td>55.0</td>\n",
       "      <td>37.0</td>\n",
       "      <td>10.0</td>\n",
       "      <td>14.0</td>\n",
       "      <td>1.0</td>\n",
       "      <td>5.0</td>\n",
       "      <td>1.0</td>\n",
       "      <td>9985.0</td>\n",
       "      <td>18.0</td>\n",
       "      <td>1775.0</td>\n",
       "    </tr>\n",
       "  </tbody>\n",
       "</table>\n",
       "<p>5 rows × 49 columns</p>\n",
       "</div>"
      ],
      "text/plain": [
       "  tourney_id tourney_name surface  draw_size tourney_level  tourney_date  \\\n",
       "0  2020-8888      Atp Cup    Hard         24             A      20200106   \n",
       "1  2020-8888      Atp Cup    Hard         24             A      20200106   \n",
       "2  2020-8888      Atp Cup    Hard         24             A      20200106   \n",
       "3  2020-8888      Atp Cup    Hard         24             A      20200106   \n",
       "4  2020-8888      Atp Cup    Hard         24             A      20200106   \n",
       "\n",
       "   match_num  winner_id winner_seed winner_entry  ... l_1stIn l_1stWon  \\\n",
       "0        300     104925         NaN          NaN  ...    51.0     39.0   \n",
       "1        299     105138         NaN          NaN  ...    35.0     21.0   \n",
       "2        298     104925         NaN          NaN  ...    57.0     35.0   \n",
       "3        297     105583         NaN          NaN  ...    54.0     39.0   \n",
       "4        296     104745         NaN          NaN  ...    55.0     37.0   \n",
       "\n",
       "   l_2ndWon l_SvGms  l_bpSaved  l_bpFaced winner_rank winner_rank_points  \\\n",
       "0       6.0    10.0        6.0        8.0         2.0             9055.0   \n",
       "1       6.0     9.0        5.0       10.0        10.0             2335.0   \n",
       "2      25.0    14.0        6.0       11.0         2.0             9055.0   \n",
       "3      14.0    12.0        0.0        1.0        34.0             1251.0   \n",
       "4      10.0    14.0        1.0        5.0         1.0             9985.0   \n",
       "\n",
       "  loser_rank loser_rank_points  \n",
       "0        1.0            9985.0  \n",
       "1       34.0            1251.0  \n",
       "2        5.0            5705.0  \n",
       "3       17.0            1840.0  \n",
       "4       18.0            1775.0  \n",
       "\n",
       "[5 rows x 49 columns]"
      ]
     },
     "execution_count": 4,
     "metadata": {},
     "output_type": "execute_result"
    }
   ],
   "source": [
    "atp20.head()"
   ]
  },
  {
   "cell_type": "code",
   "execution_count": null,
   "metadata": {},
   "outputs": [],
   "source": [
    "atp20.tourney_name.value_counts()"
   ]
  },
  {
   "cell_type": "code",
   "execution_count": null,
   "metadata": {
    "scrolled": true
   },
   "outputs": [],
   "source": [
    "ao = atp20.tourney_name == 'Australian Open'\n",
    "ausopen20 = atp20[ao]"
   ]
  },
  {
   "cell_type": "code",
   "execution_count": null,
   "metadata": {},
   "outputs": [],
   "source": [
    "ausopen20.head()"
   ]
  },
  {
   "cell_type": "code",
   "execution_count": null,
   "metadata": {},
   "outputs": [],
   "source": [
    "ausopen20.loc[:,'tourney_date'].apply(str)\n",
    "\n",
    "ausopen20.loc[:,'tourney_date'] = pd.to_datetime(ausopen20['tourney_date'], format='%Y%m%d')"
   ]
  },
  {
   "cell_type": "code",
   "execution_count": null,
   "metadata": {},
   "outputs": [],
   "source": [
    "ausopen20['year'] = pd.DatetimeIndex(ausopen20['tourney_date']).year\n",
    "ausopen20.head()"
   ]
  },
  {
   "cell_type": "code",
   "execution_count": null,
   "metadata": {
    "scrolled": true
   },
   "outputs": [],
   "source": [
    "ausopen20.drop(['winner_seed', 'loser_seed','winner_ht','loser_ht', 'surface','tourney_name','draw_size', 'winner_entry','loser_entry', 'winner_ioc', 'loser_ioc', 'winner_hand','loser_hand','tourney_level','tourney_date', 'w_bpFaced','l_bpFaced', 'best_of', 'loser_rank_points', 'winner_rank_points'], axis=1, inplace=True)"
   ]
  },
  {
   "cell_type": "code",
   "execution_count": null,
   "metadata": {},
   "outputs": [],
   "source": [
    "winner_cols = [col for col in ausopen20.columns if col.startswith('w')]\n",
    "loser_cols = [col for col in ausopen20.columns if col.startswith('l')]\n",
    "other_cols = ['tourney_id','match_num','score','round','minutes']"
   ]
  },
  {
   "cell_type": "code",
   "execution_count": null,
   "metadata": {},
   "outputs": [],
   "source": [
    "winner_cols"
   ]
  },
  {
   "cell_type": "code",
   "execution_count": null,
   "metadata": {},
   "outputs": [],
   "source": [
    "loser_cols"
   ]
  },
  {
   "cell_type": "code",
   "execution_count": null,
   "metadata": {},
   "outputs": [],
   "source": [
    "other_cols"
   ]
  },
  {
   "cell_type": "code",
   "execution_count": null,
   "metadata": {},
   "outputs": [],
   "source": [
    "ausopen20.winner_name.value_counts()"
   ]
  },
  {
   "cell_type": "code",
   "execution_count": null,
   "metadata": {},
   "outputs": [],
   "source": [
    "half_ausopen = ausopen20.sample(frac=0.5, random_state=1)"
   ]
  },
  {
   "cell_type": "code",
   "execution_count": null,
   "metadata": {},
   "outputs": [],
   "source": [
    "half_ausopen.shape"
   ]
  },
  {
   "cell_type": "code",
   "execution_count": null,
   "metadata": {},
   "outputs": [],
   "source": [
    "other_half = ausopen20.drop(half_ausopen.index)"
   ]
  },
  {
   "cell_type": "code",
   "execution_count": null,
   "metadata": {},
   "outputs": [],
   "source": [
    "other_half.shape"
   ]
  },
  {
   "cell_type": "code",
   "execution_count": null,
   "metadata": {},
   "outputs": [],
   "source": [
    "ausopen20.shape"
   ]
  },
  {
   "cell_type": "code",
   "execution_count": null,
   "metadata": {},
   "outputs": [],
   "source": [
    "##half_ausopen - winner player 2 \n",
    "winner_fhalf = [col for col in half_ausopen.columns if col.startswith('w')]\n",
    "loser_fhalf = [col for col in half_ausopen.columns if col.startswith('l')]\n",
    "other_fhalf = ['tourney_id','match_num','score','round','minutes', 'year']"
   ]
  },
  {
   "cell_type": "code",
   "execution_count": null,
   "metadata": {},
   "outputs": [],
   "source": [
    "fhalf = half_ausopen[winner_fhalf + loser_fhalf + other_fhalf]"
   ]
  },
  {
   "cell_type": "code",
   "execution_count": null,
   "metadata": {},
   "outputs": [],
   "source": [
    "new_column_names_w = [col.replace('w_','winner_') for col in winner_fhalf]\n",
    "new_column_names_l = [col.replace('l_','loser_') for col in loser_fhalf]"
   ]
  },
  {
   "cell_type": "code",
   "execution_count": null,
   "metadata": {},
   "outputs": [],
   "source": [
    "final_col_names_w = [col.replace('winner_','p2') for col in new_column_names_w]\n",
    "final_col_names_l = [col.replace('loser_','p1') for col in new_column_names_l]\n",
    "final_col_names_l"
   ]
  },
  {
   "cell_type": "code",
   "execution_count": null,
   "metadata": {},
   "outputs": [],
   "source": [
    "fhalf.columns = final_col_names_w + final_col_names_l + other_fhalf"
   ]
  },
  {
   "cell_type": "code",
   "execution_count": null,
   "metadata": {},
   "outputs": [],
   "source": [
    "fhalf.head()"
   ]
  },
  {
   "cell_type": "code",
   "execution_count": null,
   "metadata": {
    "scrolled": true
   },
   "outputs": [],
   "source": [
    "fhalf['p1won'] = 0\n",
    "fhalf['p2won'] = 1"
   ]
  },
  {
   "cell_type": "code",
   "execution_count": null,
   "metadata": {},
   "outputs": [],
   "source": [
    "fhalf.head()"
   ]
  },
  {
   "cell_type": "code",
   "execution_count": null,
   "metadata": {},
   "outputs": [],
   "source": [
    "##other_half - winner player 1 \n",
    "winner_shalf = [col for col in other_half.columns if col.startswith('w')]\n",
    "loser_shalf = [col for col in other_half.columns if col.startswith('l')]\n",
    "other_shalf = ['tourney_id','match_num','score','round','minutes', 'year']"
   ]
  },
  {
   "cell_type": "code",
   "execution_count": null,
   "metadata": {},
   "outputs": [],
   "source": [
    "shalf = other_half[winner_shalf + loser_shalf + other_shalf]"
   ]
  },
  {
   "cell_type": "code",
   "execution_count": null,
   "metadata": {},
   "outputs": [],
   "source": [
    "new_column_names_sw = [col.replace('w_','winner_') for col in winner_shalf]\n",
    "new_column_names_sl = [col.replace('l_','loser_') for col in loser_shalf]"
   ]
  },
  {
   "cell_type": "code",
   "execution_count": null,
   "metadata": {},
   "outputs": [],
   "source": [
    "final_col_names_sw = [col.replace('winner_','p1') for col in new_column_names_w]\n",
    "final_col_names_sl = [col.replace('loser_','p2') for col in new_column_names_l]\n",
    "final_col_names_sl"
   ]
  },
  {
   "cell_type": "code",
   "execution_count": null,
   "metadata": {},
   "outputs": [],
   "source": [
    "shalf.columns =  final_col_names_sl + final_col_names_sw + other_shalf"
   ]
  },
  {
   "cell_type": "code",
   "execution_count": null,
   "metadata": {},
   "outputs": [],
   "source": [
    "##re-do this \n",
    "\n",
    "shalf['p1won'] = 1\n",
    "shalf['p2won'] = 0"
   ]
  },
  {
   "cell_type": "code",
   "execution_count": null,
   "metadata": {},
   "outputs": [],
   "source": [
    "shalf.head()"
   ]
  },
  {
   "cell_type": "code",
   "execution_count": null,
   "metadata": {},
   "outputs": [],
   "source": [
    "final = fhalf.append(shalf)\n",
    "final.head()"
   ]
  },
  {
   "cell_type": "code",
   "execution_count": null,
   "metadata": {},
   "outputs": [],
   "source": [
    "final.shape"
   ]
  },
  {
   "cell_type": "code",
   "execution_count": null,
   "metadata": {},
   "outputs": [],
   "source": [
    "final.sort_index(0, ascending=True)"
   ]
  },
  {
   "cell_type": "code",
   "execution_count": null,
   "metadata": {},
   "outputs": [],
   "source": [
    "final.columns"
   ]
  },
  {
   "cell_type": "code",
   "execution_count": null,
   "metadata": {},
   "outputs": [],
   "source": [
    "final = final[['tourney_id', 'match_num','score', 'round', 'minutes', 'p1name', 'p1age', 'p1ace', 'p1id','p1name', 'p1age', 'p1ace', 'p1df', 'p1svpt', 'p11stIn', 'p11stWon','p12ndWon', 'p1SvGms', 'p1bpSaved', 'p1rank','p2id', 'p2name', 'p2age', 'p2ace', 'p2df', 'p2svpt', 'p21stIn','p21stWon', 'p22ndWon', 'p2SvGms', 'p2bpSaved', 'p2rank', 'p1won', 'p2won']]\n",
    "final.head()\n"
   ]
  },
  {
   "cell_type": "code",
   "execution_count": null,
   "metadata": {},
   "outputs": [],
   "source": [
    "final.p1won.value_counts()"
   ]
  },
  {
   "cell_type": "code",
   "execution_count": null,
   "metadata": {},
   "outputs": [],
   "source": [
    "final.p2won.value_counts()"
   ]
  },
  {
   "cell_type": "code",
   "execution_count": null,
   "metadata": {
    "scrolled": true
   },
   "outputs": [],
   "source": [
    "final.columns"
   ]
  },
  {
   "cell_type": "code",
   "execution_count": null,
   "metadata": {
    "scrolled": true
   },
   "outputs": [],
   "source": [
    "final['round'].value_counts()"
   ]
  },
  {
   "cell_type": "code",
   "execution_count": null,
   "metadata": {},
   "outputs": [],
   "source": [
    "final.drop(['p1SvGms','p1bpSaved','p2SvGms', 'p2bpSaved','p22ndWon','p12ndWon' ], axis=1, inplace=True)"
   ]
  },
  {
   "cell_type": "code",
   "execution_count": null,
   "metadata": {},
   "outputs": [],
   "source": [
    "final.head()"
   ]
  },
  {
   "cell_type": "code",
   "execution_count": null,
   "metadata": {
    "scrolled": true
   },
   "outputs": [],
   "source": [
    "p2_cols = [col for col in final.columns if col.startswith('p2name')]\n",
    "p2_cols"
   ]
  },
  {
   "cell_type": "code",
   "execution_count": null,
   "metadata": {},
   "outputs": [],
   "source": [
    "p2 = final[p2_cols]\n",
    "p2.head()"
   ]
  },
  {
   "cell_type": "code",
   "execution_count": null,
   "metadata": {},
   "outputs": [],
   "source": [
    "p2.p2name.value_counts()"
   ]
  },
  {
   "cell_type": "code",
   "execution_count": null,
   "metadata": {},
   "outputs": [],
   "source": [
    "final_metrics.head()"
   ]
  },
  {
   "cell_type": "code",
   "execution_count": null,
   "metadata": {},
   "outputs": [],
   "source": [
    "p2_final = pd.merge(final_metrics, p2, how='left', left_on='player', right_on='p2name')\n",
    "p2_final.head(10)"
   ]
  },
  {
   "cell_type": "code",
   "execution_count": null,
   "metadata": {},
   "outputs": [],
   "source": [
    "p2_final = p2_final.add_prefix('p2_curr_')"
   ]
  },
  {
   "cell_type": "code",
   "execution_count": null,
   "metadata": {},
   "outputs": [],
   "source": [
    "p2_final.head()"
   ]
  },
  {
   "cell_type": "code",
   "execution_count": null,
   "metadata": {},
   "outputs": [],
   "source": [
    "p2_final.drop(['p2_curr_Unnamed: 0', 'p2_curr_player', 'p2_curr_player_id'], axis=1, inplace=True)\n",
    "p2_final.head()"
   ]
  },
  {
   "cell_type": "code",
   "execution_count": null,
   "metadata": {},
   "outputs": [],
   "source": [
    "p2_final = p2_final.rename(columns={'p2_curr_p2name': 'p2name'})"
   ]
  },
  {
   "cell_type": "code",
   "execution_count": null,
   "metadata": {},
   "outputs": [],
   "source": [
    "p2_final[p2_final.p2name.isnull()]"
   ]
  },
  {
   "cell_type": "code",
   "execution_count": null,
   "metadata": {},
   "outputs": [],
   "source": [
    "final = final.merge(p2_final, how='right', on='p2name')\n",
    "final.head()"
   ]
  },
  {
   "cell_type": "code",
   "execution_count": null,
   "metadata": {},
   "outputs": [],
   "source": [
    "final.columns"
   ]
  },
  {
   "cell_type": "code",
   "execution_count": null,
   "metadata": {},
   "outputs": [],
   "source": [
    "p1_cols = [col for col in final.columns if col.startswith('p1name')]\n",
    "p1_cols"
   ]
  },
  {
   "cell_type": "code",
   "execution_count": null,
   "metadata": {},
   "outputs": [],
   "source": [
    "p1 = final[p1_cols]\n",
    "p1.head()"
   ]
  },
  {
   "cell_type": "code",
   "execution_count": null,
   "metadata": {},
   "outputs": [],
   "source": [
    "p1_final = pd.merge(final_metrics, p1, how='left', left_on='player', right_on='p1name')\n",
    "p1_final.head(10)"
   ]
  },
  {
   "cell_type": "code",
   "execution_count": null,
   "metadata": {},
   "outputs": [],
   "source": [
    "p1_final = p1_final.add_prefix('p1_curr_')"
   ]
  },
  {
   "cell_type": "code",
   "execution_count": null,
   "metadata": {},
   "outputs": [],
   "source": [
    "p1_final.drop(['p1_curr_Unnamed: 0', 'p1_curr_player', 'p1_curr_player_id'], axis=1, inplace=True)\n",
    "p1_final.head()"
   ]
  },
  {
   "cell_type": "code",
   "execution_count": null,
   "metadata": {},
   "outputs": [],
   "source": [
    "p1_final = p1_final.rename(columns={'p1_curr_p1name': 'p1name'})"
   ]
  },
  {
   "cell_type": "code",
   "execution_count": null,
   "metadata": {},
   "outputs": [],
   "source": [
    "final = final.merge(p1_final, how='right', on='p1name')\n",
    "final.head()"
   ]
  }
 ],
 "metadata": {
  "celltoolbar": "Slideshow",
  "kernelspec": {
   "display_name": "Python 3",
   "language": "python",
   "name": "python3"
  },
  "language_info": {
   "codemirror_mode": {
    "name": "ipython",
    "version": 3
   },
   "file_extension": ".py",
   "mimetype": "text/x-python",
   "name": "python",
   "nbconvert_exporter": "python",
   "pygments_lexer": "ipython3",
   "version": "3.8.3"
  }
 },
 "nbformat": 4,
 "nbformat_minor": 4
}
