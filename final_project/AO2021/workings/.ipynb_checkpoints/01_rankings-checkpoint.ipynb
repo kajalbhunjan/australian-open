{
 "cells": [
  {
   "cell_type": "code",
   "execution_count": 1,
   "metadata": {},
   "outputs": [],
   "source": [
    "import pandas as pd\n",
    "from matplotlib import pyplot as plt\n",
    "from datetime import datetime\n",
    "import seaborn as sns\n",
    "\n",
    "%matplotlib inline"
   ]
  },
  {
   "cell_type": "code",
   "execution_count": 2,
   "metadata": {},
   "outputs": [],
   "source": [
    "rankings = pd.read_csv('./data/atp_rankings_current.csv', names=[\"date\",\"rank\",\"player_id\",\"rank_points\"])\n",
    "players = pd.read_csv('./data/atp_players.csv', names=[\"player_id\",\"first_name\",\"last_name\",\"hand\",\"birth_date\",\"country\"])"
   ]
  },
  {
   "cell_type": "code",
   "execution_count": 3,
   "metadata": {},
   "outputs": [
    {
     "data": {
      "text/html": [
       "<div>\n",
       "<style scoped>\n",
       "    .dataframe tbody tr th:only-of-type {\n",
       "        vertical-align: middle;\n",
       "    }\n",
       "\n",
       "    .dataframe tbody tr th {\n",
       "        vertical-align: top;\n",
       "    }\n",
       "\n",
       "    .dataframe thead th {\n",
       "        text-align: right;\n",
       "    }\n",
       "</style>\n",
       "<table border=\"1\" class=\"dataframe\">\n",
       "  <thead>\n",
       "    <tr style=\"text-align: right;\">\n",
       "      <th></th>\n",
       "      <th>date</th>\n",
       "      <th>rank</th>\n",
       "      <th>player_id</th>\n",
       "      <th>rank_points</th>\n",
       "    </tr>\n",
       "  </thead>\n",
       "  <tbody>\n",
       "    <tr>\n",
       "      <th>0</th>\n",
       "      <td>20210104</td>\n",
       "      <td>1</td>\n",
       "      <td>104925</td>\n",
       "      <td>12030</td>\n",
       "    </tr>\n",
       "    <tr>\n",
       "      <th>1</th>\n",
       "      <td>20210104</td>\n",
       "      <td>2</td>\n",
       "      <td>104745</td>\n",
       "      <td>9850</td>\n",
       "    </tr>\n",
       "    <tr>\n",
       "      <th>2</th>\n",
       "      <td>20210104</td>\n",
       "      <td>3</td>\n",
       "      <td>106233</td>\n",
       "      <td>9125</td>\n",
       "    </tr>\n",
       "    <tr>\n",
       "      <th>3</th>\n",
       "      <td>20210104</td>\n",
       "      <td>4</td>\n",
       "      <td>106421</td>\n",
       "      <td>8470</td>\n",
       "    </tr>\n",
       "    <tr>\n",
       "      <th>4</th>\n",
       "      <td>20210104</td>\n",
       "      <td>5</td>\n",
       "      <td>103819</td>\n",
       "      <td>6630</td>\n",
       "    </tr>\n",
       "  </tbody>\n",
       "</table>\n",
       "</div>"
      ],
      "text/plain": [
       "       date  rank  player_id  rank_points\n",
       "0  20210104     1     104925        12030\n",
       "1  20210104     2     104745         9850\n",
       "2  20210104     3     106233         9125\n",
       "3  20210104     4     106421         8470\n",
       "4  20210104     5     103819         6630"
      ]
     },
     "execution_count": 3,
     "metadata": {},
     "output_type": "execute_result"
    }
   ],
   "source": [
    "rankings.head()"
   ]
  },
  {
   "cell_type": "code",
   "execution_count": 4,
   "metadata": {},
   "outputs": [
    {
     "data": {
      "text/plain": [
       "20210111    2006\n",
       "20210104    2005\n",
       "Name: date, dtype: int64"
      ]
     },
     "execution_count": 4,
     "metadata": {},
     "output_type": "execute_result"
    }
   ],
   "source": [
    "rankings.date.value_counts()"
   ]
  },
  {
   "cell_type": "code",
   "execution_count": 5,
   "metadata": {},
   "outputs": [],
   "source": [
    "mask = rankings.date.isin(['20210111'])\n",
    "curr_rankings = rankings[mask]"
   ]
  },
  {
   "cell_type": "code",
   "execution_count": 6,
   "metadata": {
    "scrolled": true
   },
   "outputs": [
    {
     "data": {
      "text/html": [
       "<div>\n",
       "<style scoped>\n",
       "    .dataframe tbody tr th:only-of-type {\n",
       "        vertical-align: middle;\n",
       "    }\n",
       "\n",
       "    .dataframe tbody tr th {\n",
       "        vertical-align: top;\n",
       "    }\n",
       "\n",
       "    .dataframe thead th {\n",
       "        text-align: right;\n",
       "    }\n",
       "</style>\n",
       "<table border=\"1\" class=\"dataframe\">\n",
       "  <thead>\n",
       "    <tr style=\"text-align: right;\">\n",
       "      <th></th>\n",
       "      <th>date</th>\n",
       "      <th>rank</th>\n",
       "      <th>player_id</th>\n",
       "      <th>rank_points</th>\n",
       "    </tr>\n",
       "  </thead>\n",
       "  <tbody>\n",
       "    <tr>\n",
       "      <th>2005</th>\n",
       "      <td>20210111</td>\n",
       "      <td>1</td>\n",
       "      <td>104925</td>\n",
       "      <td>12030</td>\n",
       "    </tr>\n",
       "    <tr>\n",
       "      <th>2006</th>\n",
       "      <td>20210111</td>\n",
       "      <td>2</td>\n",
       "      <td>104745</td>\n",
       "      <td>9850</td>\n",
       "    </tr>\n",
       "    <tr>\n",
       "      <th>2007</th>\n",
       "      <td>20210111</td>\n",
       "      <td>3</td>\n",
       "      <td>106233</td>\n",
       "      <td>9125</td>\n",
       "    </tr>\n",
       "    <tr>\n",
       "      <th>2008</th>\n",
       "      <td>20210111</td>\n",
       "      <td>4</td>\n",
       "      <td>106421</td>\n",
       "      <td>8470</td>\n",
       "    </tr>\n",
       "    <tr>\n",
       "      <th>2009</th>\n",
       "      <td>20210111</td>\n",
       "      <td>5</td>\n",
       "      <td>103819</td>\n",
       "      <td>6630</td>\n",
       "    </tr>\n",
       "  </tbody>\n",
       "</table>\n",
       "</div>"
      ],
      "text/plain": [
       "          date  rank  player_id  rank_points\n",
       "2005  20210111     1     104925        12030\n",
       "2006  20210111     2     104745         9850\n",
       "2007  20210111     3     106233         9125\n",
       "2008  20210111     4     106421         8470\n",
       "2009  20210111     5     103819         6630"
      ]
     },
     "execution_count": 6,
     "metadata": {},
     "output_type": "execute_result"
    }
   ],
   "source": [
    "curr_rankings.head()"
   ]
  },
  {
   "cell_type": "code",
   "execution_count": 7,
   "metadata": {},
   "outputs": [
    {
     "data": {
      "text/html": [
       "<div>\n",
       "<style scoped>\n",
       "    .dataframe tbody tr th:only-of-type {\n",
       "        vertical-align: middle;\n",
       "    }\n",
       "\n",
       "    .dataframe tbody tr th {\n",
       "        vertical-align: top;\n",
       "    }\n",
       "\n",
       "    .dataframe thead th {\n",
       "        text-align: right;\n",
       "    }\n",
       "</style>\n",
       "<table border=\"1\" class=\"dataframe\">\n",
       "  <thead>\n",
       "    <tr style=\"text-align: right;\">\n",
       "      <th></th>\n",
       "      <th>player_id</th>\n",
       "      <th>first_name</th>\n",
       "      <th>last_name</th>\n",
       "      <th>hand</th>\n",
       "      <th>birth_date</th>\n",
       "      <th>country</th>\n",
       "    </tr>\n",
       "  </thead>\n",
       "  <tbody>\n",
       "    <tr>\n",
       "      <th>0</th>\n",
       "      <td>100001</td>\n",
       "      <td>Gardnar</td>\n",
       "      <td>Mulloy</td>\n",
       "      <td>R</td>\n",
       "      <td>19131122.0</td>\n",
       "      <td>USA</td>\n",
       "    </tr>\n",
       "    <tr>\n",
       "      <th>1</th>\n",
       "      <td>100002</td>\n",
       "      <td>Pancho</td>\n",
       "      <td>Segura</td>\n",
       "      <td>R</td>\n",
       "      <td>19210620.0</td>\n",
       "      <td>ECU</td>\n",
       "    </tr>\n",
       "    <tr>\n",
       "      <th>2</th>\n",
       "      <td>100003</td>\n",
       "      <td>Frank</td>\n",
       "      <td>Sedgman</td>\n",
       "      <td>R</td>\n",
       "      <td>19271002.0</td>\n",
       "      <td>AUS</td>\n",
       "    </tr>\n",
       "    <tr>\n",
       "      <th>3</th>\n",
       "      <td>100004</td>\n",
       "      <td>Giuseppe</td>\n",
       "      <td>Merlo</td>\n",
       "      <td>R</td>\n",
       "      <td>19271011.0</td>\n",
       "      <td>ITA</td>\n",
       "    </tr>\n",
       "    <tr>\n",
       "      <th>4</th>\n",
       "      <td>100005</td>\n",
       "      <td>Richard Pancho</td>\n",
       "      <td>Gonzales</td>\n",
       "      <td>R</td>\n",
       "      <td>19280509.0</td>\n",
       "      <td>USA</td>\n",
       "    </tr>\n",
       "  </tbody>\n",
       "</table>\n",
       "</div>"
      ],
      "text/plain": [
       "   player_id      first_name last_name hand  birth_date country\n",
       "0     100001         Gardnar    Mulloy    R  19131122.0     USA\n",
       "1     100002          Pancho    Segura    R  19210620.0     ECU\n",
       "2     100003           Frank   Sedgman    R  19271002.0     AUS\n",
       "3     100004        Giuseppe     Merlo    R  19271011.0     ITA\n",
       "4     100005  Richard Pancho  Gonzales    R  19280509.0     USA"
      ]
     },
     "execution_count": 7,
     "metadata": {},
     "output_type": "execute_result"
    }
   ],
   "source": [
    "players.head()"
   ]
  },
  {
   "cell_type": "code",
   "execution_count": 8,
   "metadata": {},
   "outputs": [],
   "source": [
    "players[\"name\"] = players[\"first_name\"] + \" \" + players[\"last_name\"]"
   ]
  },
  {
   "cell_type": "code",
   "execution_count": 9,
   "metadata": {},
   "outputs": [
    {
     "data": {
      "text/html": [
       "<div>\n",
       "<style scoped>\n",
       "    .dataframe tbody tr th:only-of-type {\n",
       "        vertical-align: middle;\n",
       "    }\n",
       "\n",
       "    .dataframe tbody tr th {\n",
       "        vertical-align: top;\n",
       "    }\n",
       "\n",
       "    .dataframe thead th {\n",
       "        text-align: right;\n",
       "    }\n",
       "</style>\n",
       "<table border=\"1\" class=\"dataframe\">\n",
       "  <thead>\n",
       "    <tr style=\"text-align: right;\">\n",
       "      <th></th>\n",
       "      <th>player_id</th>\n",
       "      <th>first_name</th>\n",
       "      <th>last_name</th>\n",
       "      <th>hand</th>\n",
       "      <th>birth_date</th>\n",
       "      <th>country</th>\n",
       "      <th>name</th>\n",
       "    </tr>\n",
       "  </thead>\n",
       "  <tbody>\n",
       "    <tr>\n",
       "      <th>0</th>\n",
       "      <td>100001</td>\n",
       "      <td>Gardnar</td>\n",
       "      <td>Mulloy</td>\n",
       "      <td>R</td>\n",
       "      <td>19131122.0</td>\n",
       "      <td>USA</td>\n",
       "      <td>Gardnar Mulloy</td>\n",
       "    </tr>\n",
       "    <tr>\n",
       "      <th>1</th>\n",
       "      <td>100002</td>\n",
       "      <td>Pancho</td>\n",
       "      <td>Segura</td>\n",
       "      <td>R</td>\n",
       "      <td>19210620.0</td>\n",
       "      <td>ECU</td>\n",
       "      <td>Pancho Segura</td>\n",
       "    </tr>\n",
       "    <tr>\n",
       "      <th>2</th>\n",
       "      <td>100003</td>\n",
       "      <td>Frank</td>\n",
       "      <td>Sedgman</td>\n",
       "      <td>R</td>\n",
       "      <td>19271002.0</td>\n",
       "      <td>AUS</td>\n",
       "      <td>Frank Sedgman</td>\n",
       "    </tr>\n",
       "    <tr>\n",
       "      <th>3</th>\n",
       "      <td>100004</td>\n",
       "      <td>Giuseppe</td>\n",
       "      <td>Merlo</td>\n",
       "      <td>R</td>\n",
       "      <td>19271011.0</td>\n",
       "      <td>ITA</td>\n",
       "      <td>Giuseppe Merlo</td>\n",
       "    </tr>\n",
       "    <tr>\n",
       "      <th>4</th>\n",
       "      <td>100005</td>\n",
       "      <td>Richard Pancho</td>\n",
       "      <td>Gonzales</td>\n",
       "      <td>R</td>\n",
       "      <td>19280509.0</td>\n",
       "      <td>USA</td>\n",
       "      <td>Richard Pancho Gonzales</td>\n",
       "    </tr>\n",
       "  </tbody>\n",
       "</table>\n",
       "</div>"
      ],
      "text/plain": [
       "   player_id      first_name last_name hand  birth_date country  \\\n",
       "0     100001         Gardnar    Mulloy    R  19131122.0     USA   \n",
       "1     100002          Pancho    Segura    R  19210620.0     ECU   \n",
       "2     100003           Frank   Sedgman    R  19271002.0     AUS   \n",
       "3     100004        Giuseppe     Merlo    R  19271011.0     ITA   \n",
       "4     100005  Richard Pancho  Gonzales    R  19280509.0     USA   \n",
       "\n",
       "                      name  \n",
       "0           Gardnar Mulloy  \n",
       "1            Pancho Segura  \n",
       "2            Frank Sedgman  \n",
       "3           Giuseppe Merlo  \n",
       "4  Richard Pancho Gonzales  "
      ]
     },
     "execution_count": 9,
     "metadata": {},
     "output_type": "execute_result"
    }
   ],
   "source": [
    "players.head()"
   ]
  },
  {
   "cell_type": "code",
   "execution_count": 12,
   "metadata": {},
   "outputs": [
    {
     "data": {
      "text/plain": [
       "(2006, 4)"
      ]
     },
     "execution_count": 12,
     "metadata": {},
     "output_type": "execute_result"
    }
   ],
   "source": [
    "curr_rankings.shape"
   ]
  },
  {
   "cell_type": "code",
   "execution_count": 13,
   "metadata": {},
   "outputs": [
    {
     "data": {
      "text/plain": [
       "(54985, 7)"
      ]
     },
     "execution_count": 13,
     "metadata": {},
     "output_type": "execute_result"
    }
   ],
   "source": [
    "players.shape"
   ]
  },
  {
   "cell_type": "code",
   "execution_count": 14,
   "metadata": {},
   "outputs": [],
   "source": [
    "#joining the two tables \n",
    "\n",
    "final_rank = curr_rankings.merge(players, how='inner', on=[\"player_id\"])"
   ]
  },
  {
   "cell_type": "code",
   "execution_count": 15,
   "metadata": {},
   "outputs": [
    {
     "data": {
      "text/html": [
       "<div>\n",
       "<style scoped>\n",
       "    .dataframe tbody tr th:only-of-type {\n",
       "        vertical-align: middle;\n",
       "    }\n",
       "\n",
       "    .dataframe tbody tr th {\n",
       "        vertical-align: top;\n",
       "    }\n",
       "\n",
       "    .dataframe thead th {\n",
       "        text-align: right;\n",
       "    }\n",
       "</style>\n",
       "<table border=\"1\" class=\"dataframe\">\n",
       "  <thead>\n",
       "    <tr style=\"text-align: right;\">\n",
       "      <th></th>\n",
       "      <th>date</th>\n",
       "      <th>rank</th>\n",
       "      <th>player_id</th>\n",
       "      <th>rank_points</th>\n",
       "      <th>first_name</th>\n",
       "      <th>last_name</th>\n",
       "      <th>hand</th>\n",
       "      <th>birth_date</th>\n",
       "      <th>country</th>\n",
       "      <th>name</th>\n",
       "    </tr>\n",
       "  </thead>\n",
       "  <tbody>\n",
       "    <tr>\n",
       "      <th>0</th>\n",
       "      <td>20210111</td>\n",
       "      <td>1</td>\n",
       "      <td>104925</td>\n",
       "      <td>12030</td>\n",
       "      <td>Novak</td>\n",
       "      <td>Djokovic</td>\n",
       "      <td>R</td>\n",
       "      <td>19870522.0</td>\n",
       "      <td>SRB</td>\n",
       "      <td>Novak Djokovic</td>\n",
       "    </tr>\n",
       "    <tr>\n",
       "      <th>1</th>\n",
       "      <td>20210111</td>\n",
       "      <td>2</td>\n",
       "      <td>104745</td>\n",
       "      <td>9850</td>\n",
       "      <td>Rafael</td>\n",
       "      <td>Nadal</td>\n",
       "      <td>L</td>\n",
       "      <td>19860603.0</td>\n",
       "      <td>ESP</td>\n",
       "      <td>Rafael Nadal</td>\n",
       "    </tr>\n",
       "    <tr>\n",
       "      <th>2</th>\n",
       "      <td>20210111</td>\n",
       "      <td>3</td>\n",
       "      <td>106233</td>\n",
       "      <td>9125</td>\n",
       "      <td>Dominic</td>\n",
       "      <td>Thiem</td>\n",
       "      <td>R</td>\n",
       "      <td>19930903.0</td>\n",
       "      <td>AUT</td>\n",
       "      <td>Dominic Thiem</td>\n",
       "    </tr>\n",
       "    <tr>\n",
       "      <th>3</th>\n",
       "      <td>20210111</td>\n",
       "      <td>4</td>\n",
       "      <td>106421</td>\n",
       "      <td>8470</td>\n",
       "      <td>Daniil</td>\n",
       "      <td>Medvedev</td>\n",
       "      <td>R</td>\n",
       "      <td>19960211.0</td>\n",
       "      <td>RUS</td>\n",
       "      <td>Daniil Medvedev</td>\n",
       "    </tr>\n",
       "    <tr>\n",
       "      <th>4</th>\n",
       "      <td>20210111</td>\n",
       "      <td>5</td>\n",
       "      <td>103819</td>\n",
       "      <td>6630</td>\n",
       "      <td>Roger</td>\n",
       "      <td>Federer</td>\n",
       "      <td>R</td>\n",
       "      <td>19810808.0</td>\n",
       "      <td>SUI</td>\n",
       "      <td>Roger Federer</td>\n",
       "    </tr>\n",
       "  </tbody>\n",
       "</table>\n",
       "</div>"
      ],
      "text/plain": [
       "       date  rank  player_id  rank_points first_name last_name hand  \\\n",
       "0  20210111     1     104925        12030      Novak  Djokovic    R   \n",
       "1  20210111     2     104745         9850     Rafael     Nadal    L   \n",
       "2  20210111     3     106233         9125    Dominic     Thiem    R   \n",
       "3  20210111     4     106421         8470     Daniil  Medvedev    R   \n",
       "4  20210111     5     103819         6630      Roger   Federer    R   \n",
       "\n",
       "   birth_date country             name  \n",
       "0  19870522.0     SRB   Novak Djokovic  \n",
       "1  19860603.0     ESP     Rafael Nadal  \n",
       "2  19930903.0     AUT    Dominic Thiem  \n",
       "3  19960211.0     RUS  Daniil Medvedev  \n",
       "4  19810808.0     SUI    Roger Federer  "
      ]
     },
     "execution_count": 15,
     "metadata": {},
     "output_type": "execute_result"
    }
   ],
   "source": [
    "final_rank.head()"
   ]
  },
  {
   "cell_type": "code",
   "execution_count": 16,
   "metadata": {},
   "outputs": [],
   "source": [
    "final_rank.drop(['date','first_name','last_name','hand','birth_date','country'], axis=1, inplace=True)"
   ]
  },
  {
   "cell_type": "code",
   "execution_count": 17,
   "metadata": {},
   "outputs": [
    {
     "data": {
      "text/html": [
       "<div>\n",
       "<style scoped>\n",
       "    .dataframe tbody tr th:only-of-type {\n",
       "        vertical-align: middle;\n",
       "    }\n",
       "\n",
       "    .dataframe tbody tr th {\n",
       "        vertical-align: top;\n",
       "    }\n",
       "\n",
       "    .dataframe thead th {\n",
       "        text-align: right;\n",
       "    }\n",
       "</style>\n",
       "<table border=\"1\" class=\"dataframe\">\n",
       "  <thead>\n",
       "    <tr style=\"text-align: right;\">\n",
       "      <th></th>\n",
       "      <th>rank</th>\n",
       "      <th>player_id</th>\n",
       "      <th>rank_points</th>\n",
       "      <th>name</th>\n",
       "    </tr>\n",
       "  </thead>\n",
       "  <tbody>\n",
       "    <tr>\n",
       "      <th>0</th>\n",
       "      <td>1</td>\n",
       "      <td>104925</td>\n",
       "      <td>12030</td>\n",
       "      <td>Novak Djokovic</td>\n",
       "    </tr>\n",
       "    <tr>\n",
       "      <th>1</th>\n",
       "      <td>2</td>\n",
       "      <td>104745</td>\n",
       "      <td>9850</td>\n",
       "      <td>Rafael Nadal</td>\n",
       "    </tr>\n",
       "    <tr>\n",
       "      <th>2</th>\n",
       "      <td>3</td>\n",
       "      <td>106233</td>\n",
       "      <td>9125</td>\n",
       "      <td>Dominic Thiem</td>\n",
       "    </tr>\n",
       "    <tr>\n",
       "      <th>3</th>\n",
       "      <td>4</td>\n",
       "      <td>106421</td>\n",
       "      <td>8470</td>\n",
       "      <td>Daniil Medvedev</td>\n",
       "    </tr>\n",
       "    <tr>\n",
       "      <th>4</th>\n",
       "      <td>5</td>\n",
       "      <td>103819</td>\n",
       "      <td>6630</td>\n",
       "      <td>Roger Federer</td>\n",
       "    </tr>\n",
       "  </tbody>\n",
       "</table>\n",
       "</div>"
      ],
      "text/plain": [
       "   rank  player_id  rank_points             name\n",
       "0     1     104925        12030   Novak Djokovic\n",
       "1     2     104745         9850     Rafael Nadal\n",
       "2     3     106233         9125    Dominic Thiem\n",
       "3     4     106421         8470  Daniil Medvedev\n",
       "4     5     103819         6630    Roger Federer"
      ]
     },
     "execution_count": 17,
     "metadata": {},
     "output_type": "execute_result"
    }
   ],
   "source": [
    "final_rank.head()"
   ]
  },
  {
   "cell_type": "code",
   "execution_count": null,
   "metadata": {},
   "outputs": [],
   "source": []
  }
 ],
 "metadata": {
  "kernelspec": {
   "display_name": "Python 3",
   "language": "python",
   "name": "python3"
  },
  "language_info": {
   "codemirror_mode": {
    "name": "ipython",
    "version": 3
   },
   "file_extension": ".py",
   "mimetype": "text/x-python",
   "name": "python",
   "nbconvert_exporter": "python",
   "pygments_lexer": "ipython3",
   "version": "3.8.3"
  }
 },
 "nbformat": 4,
 "nbformat_minor": 4
}
