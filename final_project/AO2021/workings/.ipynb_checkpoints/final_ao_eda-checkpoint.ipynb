{
 "cells": [
  {
   "cell_type": "markdown",
   "metadata": {
    "slideshow": {
     "slide_type": "slide"
    }
   },
   "source": [
    "<img src=\"https://cdn.freelogovectors.net/wp-content/uploads/2020/06/australian_open_logo.png\" style=\"float: left; margin: 25px; height: 55px\">\n",
    "\n",
    "# Predicting the 2021 Australian Open"
   ]
  },
  {
   "cell_type": "code",
   "execution_count": 1,
   "metadata": {
    "slideshow": {
     "slide_type": "-"
    }
   },
   "outputs": [],
   "source": [
    "import pandas as pd\n",
    "from matplotlib import pyplot as plt\n",
    "from datetime import datetime\n",
    "import seaborn as sns\n",
    "\n",
    "%matplotlib inline"
   ]
  },
  {
   "cell_type": "markdown",
   "metadata": {},
   "source": [
    "source: http://www.tennis-data.co.uk/ausopen.phpv\n",
    "source: https://github.com/JeffSackmann/tennis_atp"
   ]
  },
  {
   "cell_type": "code",
   "execution_count": 2,
   "metadata": {},
   "outputs": [],
   "source": [
    "atp19 = pd.read_csv('./data/atp_matches_2019.csv')\n",
    "atp18 = pd.read_csv('./data/atp_matches_2018.csv')\n",
    "atp17 = pd.read_csv('./data/atp_matches_2017.csv')\n",
    "atp16 = pd.read_csv('./data/atp_matches_2016.csv')\n",
    "atp15 = pd.read_csv('./data/atp_matches_2015.csv')\n",
    "atp14 = pd.read_csv('./data/atp_matches_2014.csv')\n",
    "atp13 = pd.read_csv('./data/atp_matches_2013.csv')\n",
    "atp12 = pd.read_csv('./data/atp_matches_2012.csv')\n",
    "atp11 = pd.read_csv('./data/atp_matches_2011.csv')\n",
    "atp10 = pd.read_csv('./data/atp_matches_2010.csv')"
   ]
  },
  {
   "cell_type": "code",
   "execution_count": 3,
   "metadata": {},
   "outputs": [],
   "source": [
    "#list of all tables\n",
    "all_tables = [atp10, atp11, atp12, atp13, atp14, atp15, atp16, atp17, atp18, atp19]\n",
    "\n",
    "#concatenating all the tables in one \n",
    "atp = pd.concat(all_tables, axis=0, join='outer', ignore_index=False)\n",
    "atp.head()"
   ]
  },
  {
   "cell_type": "code",
   "execution_count": 4,
   "metadata": {
    "scrolled": true
   },
   "outputs": [],
   "source": [
    "ao = atp.tourney_name == 'Australian Open'\n",
    "ausopen = atp[ao]"
   ]
  },
  {
   "cell_type": "code",
   "execution_count": 5,
   "metadata": {},
   "outputs": [],
   "source": [
    "ausopen.head()"
   ]
  },
  {
   "cell_type": "code",
   "execution_count": 6,
   "metadata": {},
   "outputs": [],
   "source": [
    "ausopen.loc[:,'tourney_date'].apply(str)\n",
    "\n",
    "ausopen.loc[:,'tourney_date'] = pd.to_datetime(ausopen['tourney_date'], format='%Y%m%d')"
   ]
  },
  {
   "cell_type": "code",
   "execution_count": 7,
   "metadata": {},
   "outputs": [],
   "source": [
    "ausopen['year'] = pd.DatetimeIndex(ausopen['tourney_date']).year\n",
    "ausopen.head()"
   ]
  },
  {
   "cell_type": "code",
   "execution_count": 8,
   "metadata": {
    "scrolled": true
   },
   "outputs": [],
   "source": [
    "ausopen.drop(['winner_seed', 'loser_seed','winner_ht','loser_ht', 'surface','tourney_name','draw_size', 'winner_entry','loser_entry', 'winner_ioc', 'loser_ioc', 'winner_hand','loser_hand','tourney_level','tourney_date', 'w_bpFaced','l_bpFaced', 'best_of', 'loser_rank_points', 'winner_rank_points'], axis=1, inplace=True)"
   ]
  },
  {
   "cell_type": "code",
   "execution_count": 9,
   "metadata": {},
   "outputs": [],
   "source": [
    "winner_cols = [col for col in ausopen.columns if col.startswith('w')]\n",
    "loser_cols = [col for col in ausopen.columns if col.startswith('l')]\n",
    "other_cols = ['tourney_id','match_num','score','round','minutes']"
   ]
  },
  {
   "cell_type": "code",
   "execution_count": 10,
   "metadata": {},
   "outputs": [],
   "source": [
    "winner_cols"
   ]
  },
  {
   "cell_type": "code",
   "execution_count": 11,
   "metadata": {},
   "outputs": [],
   "source": [
    "loser_cols"
   ]
  },
  {
   "cell_type": "code",
   "execution_count": 12,
   "metadata": {},
   "outputs": [],
   "source": [
    "other_cols"
   ]
  },
  {
   "cell_type": "code",
   "execution_count": 13,
   "metadata": {},
   "outputs": [],
   "source": [
    "ausopen.winner_name.value_counts()"
   ]
  },
  {
   "cell_type": "code",
   "execution_count": 14,
   "metadata": {},
   "outputs": [],
   "source": [
    "half_ausopen = ausopen.sample(frac=0.5, random_state=1)"
   ]
  },
  {
   "cell_type": "code",
   "execution_count": 15,
   "metadata": {},
   "outputs": [],
   "source": [
    "half_ausopen.shape"
   ]
  },
  {
   "cell_type": "code",
   "execution_count": 16,
   "metadata": {},
   "outputs": [],
   "source": [
    "other_half = ausopen.drop(half_ausopen.index)"
   ]
  },
  {
   "cell_type": "code",
   "execution_count": 17,
   "metadata": {},
   "outputs": [],
   "source": [
    "other_half.shape"
   ]
  },
  {
   "cell_type": "code",
   "execution_count": 18,
   "metadata": {},
   "outputs": [],
   "source": [
    "ausopen.shape"
   ]
  },
  {
   "cell_type": "code",
   "execution_count": 19,
   "metadata": {},
   "outputs": [],
   "source": [
    "##half_ausopen - winner player 2 \n",
    "winner_fhalf = [col for col in half_ausopen.columns if col.startswith('w')]\n",
    "loser_fhalf = [col for col in half_ausopen.columns if col.startswith('l')]\n",
    "other_fhalf = ['tourney_id','match_num','score','round','minutes', 'year']"
   ]
  },
  {
   "cell_type": "code",
   "execution_count": 20,
   "metadata": {},
   "outputs": [],
   "source": [
    "fhalf = half_ausopen[winner_fhalf + loser_fhalf + other_fhalf]"
   ]
  },
  {
   "cell_type": "code",
   "execution_count": 21,
   "metadata": {},
   "outputs": [],
   "source": [
    "new_column_names_w = [col.replace('w_','winner_') for col in winner_fhalf]\n",
    "new_column_names_l = [col.replace('l_','loser_') for col in loser_fhalf]"
   ]
  },
  {
   "cell_type": "code",
   "execution_count": 22,
   "metadata": {},
   "outputs": [],
   "source": [
    "final_col_names_w = [col.replace('winner_','p2') for col in new_column_names_w]\n",
    "final_col_names_l = [col.replace('loser_','p1') for col in new_column_names_l]\n",
    "final_col_names_l"
   ]
  },
  {
   "cell_type": "code",
   "execution_count": 23,
   "metadata": {},
   "outputs": [],
   "source": [
    "fhalf.columns = final_col_names_w + final_col_names_l + other_fhalf"
   ]
  },
  {
   "cell_type": "code",
   "execution_count": 24,
   "metadata": {},
   "outputs": [],
   "source": [
    "fhalf.head()"
   ]
  },
  {
   "cell_type": "code",
   "execution_count": 25,
   "metadata": {
    "scrolled": true
   },
   "outputs": [],
   "source": [
    "fhalf['p1won'] = 0\n",
    "fhalf['p2won'] = 1"
   ]
  },
  {
   "cell_type": "code",
   "execution_count": 26,
   "metadata": {},
   "outputs": [],
   "source": [
    "fhalf.head()"
   ]
  },
  {
   "cell_type": "code",
   "execution_count": 27,
   "metadata": {},
   "outputs": [],
   "source": [
    "##other_half - winner player 1 \n",
    "winner_shalf = [col for col in other_half.columns if col.startswith('w')]\n",
    "loser_shalf = [col for col in other_half.columns if col.startswith('l')]\n",
    "other_shalf = ['tourney_id','match_num','score','round','minutes', 'year']"
   ]
  },
  {
   "cell_type": "code",
   "execution_count": 28,
   "metadata": {},
   "outputs": [],
   "source": [
    "shalf = other_half[winner_shalf + loser_shalf + other_shalf]"
   ]
  },
  {
   "cell_type": "code",
   "execution_count": 29,
   "metadata": {},
   "outputs": [],
   "source": [
    "new_column_names_sw = [col.replace('w_','winner_') for col in winner_shalf]\n",
    "new_column_names_sl = [col.replace('l_','loser_') for col in loser_shalf]"
   ]
  },
  {
   "cell_type": "code",
   "execution_count": 30,
   "metadata": {},
   "outputs": [],
   "source": [
    "final_col_names_sw = [col.replace('winner_','p1') for col in new_column_names_w]\n",
    "final_col_names_sl = [col.replace('loser_','p2') for col in new_column_names_l]\n",
    "final_col_names_sl"
   ]
  },
  {
   "cell_type": "code",
   "execution_count": 31,
   "metadata": {},
   "outputs": [],
   "source": [
    "shalf.columns =  final_col_names_sl + final_col_names_sw + other_shalf"
   ]
  },
  {
   "cell_type": "code",
   "execution_count": 32,
   "metadata": {},
   "outputs": [],
   "source": [
    "##re-do this \n",
    "\n",
    "shalf['p1won'] = 1\n",
    "shalf['p2won'] = 0"
   ]
  },
  {
   "cell_type": "code",
   "execution_count": 33,
   "metadata": {},
   "outputs": [],
   "source": [
    "shalf.head()"
   ]
  },
  {
   "cell_type": "code",
   "execution_count": 34,
   "metadata": {},
   "outputs": [],
   "source": [
    "final = fhalf.append(shalf)\n",
    "final.head()"
   ]
  },
  {
   "cell_type": "code",
   "execution_count": 35,
   "metadata": {},
   "outputs": [],
   "source": [
    "final.shape"
   ]
  },
  {
   "cell_type": "code",
   "execution_count": 36,
   "metadata": {},
   "outputs": [],
   "source": [
    "final.sort_index(0, ascending=True)"
   ]
  },
  {
   "cell_type": "code",
   "execution_count": 37,
   "metadata": {},
   "outputs": [],
   "source": [
    "final.columns"
   ]
  },
  {
   "cell_type": "code",
   "execution_count": 38,
   "metadata": {},
   "outputs": [],
   "source": [
    "final = final[['tourney_id', 'match_num','score', 'round', 'minutes', 'p1name', 'p1age', 'p1ace', 'p1id','p1name', 'p1age', 'p1ace', 'p1df', 'p1svpt', 'p11stIn', 'p11stWon','p12ndWon', 'p1SvGms', 'p1bpSaved', 'p1rank','p2id', 'p2name', 'p2age', 'p2ace', 'p2df', 'p2svpt', 'p21stIn','p21stWon', 'p22ndWon', 'p2SvGms', 'p2bpSaved', 'p2rank', 'p1won', 'p2won']]\n",
    "final.head()\n"
   ]
  },
  {
   "cell_type": "code",
   "execution_count": 39,
   "metadata": {},
   "outputs": [],
   "source": [
    "final.p1won.value_counts()"
   ]
  },
  {
   "cell_type": "code",
   "execution_count": 40,
   "metadata": {},
   "outputs": [],
   "source": [
    "final.p2won.value_counts()"
   ]
  },
  {
   "cell_type": "code",
   "execution_count": 41,
   "metadata": {
    "scrolled": true
   },
   "outputs": [],
   "source": [
    "final.columns"
   ]
  },
  {
   "cell_type": "code",
   "execution_count": 42,
   "metadata": {
    "scrolled": true
   },
   "outputs": [],
   "source": [
    "final['round'].value_counts()"
   ]
  },
  {
   "cell_type": "code",
   "execution_count": 43,
   "metadata": {},
   "outputs": [],
   "source": [
    "final.drop(['p1SvGms','p1bpSaved','p2SvGms', 'p2bpSaved','p22ndWon','p12ndWon' ], axis=1, inplace=True)"
   ]
  },
  {
   "cell_type": "code",
   "execution_count": 45,
   "metadata": {},
   "outputs": [],
   "source": [
    "final.head()"
   ]
  },
  {
   "cell_type": "code",
   "execution_count": 46,
   "metadata": {},
   "outputs": [],
   "source": [
    "final.head()"
   ]
  },
  {
   "cell_type": "code",
   "execution_count": null,
   "metadata": {},
   "outputs": [],
   "source": []
  }
 ],
 "metadata": {
  "kernelspec": {
   "display_name": "Python 3",
   "language": "python",
   "name": "python3"
  },
  "language_info": {
   "codemirror_mode": {
    "name": "ipython",
    "version": 3
   },
   "file_extension": ".py",
   "mimetype": "text/x-python",
   "name": "python",
   "nbconvert_exporter": "python",
   "pygments_lexer": "ipython3",
   "version": "3.8.3"
  }
 },
 "nbformat": 4,
 "nbformat_minor": 4
}
